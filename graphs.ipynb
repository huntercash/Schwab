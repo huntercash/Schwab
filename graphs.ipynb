{
 "cells": [
  {
   "cell_type": "code",
   "execution_count": 26,
   "metadata": {},
   "outputs": [],
   "source": [
    "import pandas as pd\n",
    "import matplotlib.pyplot as plt\n",
    "import seaborn as sns\n",
    "import os\n",
    "from pandas.plotting import register_matplotlib_converters\n",
    "register_matplotlib_converters()"
   ]
  },
  {
   "cell_type": "code",
   "execution_count": 27,
   "metadata": {},
   "outputs": [],
   "source": [
    "sns.set()"
   ]
  },
  {
   "cell_type": "code",
   "execution_count": 28,
   "metadata": {},
   "outputs": [
    {
     "data": {
      "text/html": [
       "<div>\n",
       "<style scoped>\n",
       "    .dataframe tbody tr th:only-of-type {\n",
       "        vertical-align: middle;\n",
       "    }\n",
       "\n",
       "    .dataframe tbody tr th {\n",
       "        vertical-align: top;\n",
       "    }\n",
       "\n",
       "    .dataframe thead th {\n",
       "        text-align: right;\n",
       "    }\n",
       "</style>\n",
       "<table border=\"1\" class=\"dataframe\">\n",
       "  <thead>\n",
       "    <tr style=\"text-align: right;\">\n",
       "      <th></th>\n",
       "      <th>EVENT_ID</th>\n",
       "      <th>START_DATE</th>\n",
       "      <th>END_DATE</th>\n",
       "      <th>DAMAGE_PROPERTY</th>\n",
       "      <th>DAMAGE_CROPS</th>\n",
       "      <th>EVENT_TYPE</th>\n",
       "      <th>CZ_NAME</th>\n",
       "      <th>STATE</th>\n",
       "      <th>SOURCE</th>\n",
       "    </tr>\n",
       "  </thead>\n",
       "  <tbody>\n",
       "    <tr>\n",
       "      <th>0</th>\n",
       "      <td>350515</td>\n",
       "      <td>2011-10-29</td>\n",
       "      <td>2011-10-30</td>\n",
       "      <td>50000.0</td>\n",
       "      <td>NaN</td>\n",
       "      <td>Heavy Snow</td>\n",
       "      <td>EASTERN HILLSBOROUGH</td>\n",
       "      <td>NEW HAMPSHIRE</td>\n",
       "      <td>Amateur Radio</td>\n",
       "    </tr>\n",
       "    <tr>\n",
       "      <th>1</th>\n",
       "      <td>345212</td>\n",
       "      <td>2011-08-28</td>\n",
       "      <td>2011-08-28</td>\n",
       "      <td>15000.0</td>\n",
       "      <td>NaN</td>\n",
       "      <td>Tropical Storm</td>\n",
       "      <td>EASTERN HILLSBOROUGH</td>\n",
       "      <td>NEW HAMPSHIRE</td>\n",
       "      <td>Amateur Radio</td>\n",
       "    </tr>\n",
       "    <tr>\n",
       "      <th>2</th>\n",
       "      <td>352765</td>\n",
       "      <td>2011-10-30</td>\n",
       "      <td>2011-10-30</td>\n",
       "      <td>5000.0</td>\n",
       "      <td>NaN</td>\n",
       "      <td>Strong Wind</td>\n",
       "      <td>EASTERN HILLSBOROUGH</td>\n",
       "      <td>NEW HAMPSHIRE</td>\n",
       "      <td>Amateur Radio</td>\n",
       "    </tr>\n",
       "    <tr>\n",
       "      <th>3</th>\n",
       "      <td>333708</td>\n",
       "      <td>2011-07-21</td>\n",
       "      <td>2011-07-21</td>\n",
       "      <td>NaN</td>\n",
       "      <td>NaN</td>\n",
       "      <td>Excessive Heat</td>\n",
       "      <td>EASTERN HILLSBOROUGH</td>\n",
       "      <td>NEW HAMPSHIRE</td>\n",
       "      <td>AWOS</td>\n",
       "    </tr>\n",
       "    <tr>\n",
       "      <th>4</th>\n",
       "      <td>328712</td>\n",
       "      <td>2011-06-28</td>\n",
       "      <td>2011-06-28</td>\n",
       "      <td>9000.0</td>\n",
       "      <td>NaN</td>\n",
       "      <td>Thunderstorm Wind</td>\n",
       "      <td>ROBESON</td>\n",
       "      <td>NORTH CAROLINA</td>\n",
       "      <td>Emergency Manager</td>\n",
       "    </tr>\n",
       "  </tbody>\n",
       "</table>\n",
       "</div>"
      ],
      "text/plain": [
       "   EVENT_ID  START_DATE    END_DATE  DAMAGE_PROPERTY  DAMAGE_CROPS  \\\n",
       "0    350515  2011-10-29  2011-10-30          50000.0           NaN   \n",
       "1    345212  2011-08-28  2011-08-28          15000.0           NaN   \n",
       "2    352765  2011-10-30  2011-10-30           5000.0           NaN   \n",
       "3    333708  2011-07-21  2011-07-21              NaN           NaN   \n",
       "4    328712  2011-06-28  2011-06-28           9000.0           NaN   \n",
       "\n",
       "          EVENT_TYPE               CZ_NAME           STATE             SOURCE  \n",
       "0         Heavy Snow  EASTERN HILLSBOROUGH   NEW HAMPSHIRE      Amateur Radio  \n",
       "1     Tropical Storm  EASTERN HILLSBOROUGH   NEW HAMPSHIRE      Amateur Radio  \n",
       "2        Strong Wind  EASTERN HILLSBOROUGH   NEW HAMPSHIRE      Amateur Radio  \n",
       "3     Excessive Heat  EASTERN HILLSBOROUGH   NEW HAMPSHIRE               AWOS  \n",
       "4  Thunderstorm Wind               ROBESON  NORTH CAROLINA  Emergency Manager  "
      ]
     },
     "execution_count": 28,
     "metadata": {},
     "output_type": "execute_result"
    }
   ],
   "source": [
    "csv = pd.read_csv(os.path.join('cleandata', '2011_disaster_data.csv'))\n",
    "df = pd.DataFrame(csv)\n",
    "df.head()"
   ]
  },
  {
   "cell_type": "code",
   "execution_count": 29,
   "metadata": {},
   "outputs": [],
   "source": [
    "beginning_date = df.START_DATE.min()"
   ]
  },
  {
   "cell_type": "code",
   "execution_count": 30,
   "metadata": {},
   "outputs": [],
   "source": [
    "end_date = df.END_DATE.min()"
   ]
  },
  {
   "cell_type": "code",
   "execution_count": 31,
   "metadata": {
    "scrolled": true
   },
   "outputs": [
    {
     "data": {
      "image/png": "[encoded data removed]",
      "text/plain": [
       "<Figure size 432x288 with 1 Axes>"
      ]
     },
     "metadata": {},
     "output_type": "display_data"
    }
   ],
   "source": [
    "plt.bar(df.SOURCE, df.DAMAGE_PROPERTY)\n",
    "plt.show()"
   ]
  },
  {
   "cell_type": "code",
   "execution_count": 32,
   "metadata": {},
   "outputs": [
    {
     "data": {
      "text/plain": [
       "EVENT_ID           38356\n",
       "START_DATE           182\n",
       "END_DATE             183\n",
       "DAMAGE_PROPERTY      258\n",
       "DAMAGE_CROPS          95\n",
       "EVENT_TYPE            39\n",
       "CZ_NAME             2679\n",
       "STATE                 65\n",
       "SOURCE                36\n",
       "dtype: int64"
      ]
     },
     "execution_count": 32,
     "metadata": {},
     "output_type": "execute_result"
    }
   ],
   "source": [
    "df.nunique()"
   ]
  },
  {
   "cell_type": "code",
   "execution_count": 34,
   "metadata": {},
   "outputs": [
    {
     "data": {
      "text/plain": [
       "<BarContainer object of 38356 artists>"
      ]
     },
     "execution_count": 34,
     "metadata": {},
     "output_type": "execute_result"
    },
    {
     "data": {
      "image/png": "[encoded data removed]",
      "text/plain": [
       "<Figure size 432x288 with 1 Axes>"
      ]
     },
     "metadata": {},
     "output_type": "display_data"
    }
   ],
   "source": [
    "plt.bar(df.STATE, df.DAMAGE_PROPERTY)"
   ]
  },
  {
   "cell_type": "code",
   "execution_count": 35,
   "metadata": {},
   "outputs": [],
   "source": [
    "plt.show()"
   ]
  },
  {
   "cell_type": "code",
   "execution_count": 37,
   "metadata": {},
   "outputs": [
    {
     "data": {
      "text/plain": [
       "<BarContainer object of 38356 artists>"
      ]
     },
     "execution_count": 37,
     "metadata": {},
     "output_type": "execute_result"
    },
    {
     "data": {
      "image/png": "[encoded data removed]",
      "text/plain": [
       "<Figure size 432x288 with 1 Axes>"
      ]
     },
     "metadata": {},
     "output_type": "display_data"
    }
   ],
   "source": [
    "plt.bar(df.STATE, df.DAMAGE_CROPS)"
   ]
  },
  {
   "cell_type": "code",
   "execution_count": 38,
   "metadata": {},
   "outputs": [],
   "source": [
    "plt.show()"
   ]
  },
  {
   "cell_type": "code",
   "execution_count": null,
   "metadata": {},
   "outputs": [],
   "source": []
  }
 ],
 "metadata": {
  "kernelspec": {
   "display_name": "Python 3",
   "language": "python",
   "name": "python3"
  },
  "language_info": {
   "codemirror_mode": {
    "name": "ipython",
    "version": 3
   },
   "file_extension": ".py",
   "mimetype": "text/x-python",
   "name": "python",
   "nbconvert_exporter": "python",
   "pygments_lexer": "ipython3",
   "version": "3.6.6"
  }
 },
 "nbformat": 4,
 "nbformat_minor": 2
}
